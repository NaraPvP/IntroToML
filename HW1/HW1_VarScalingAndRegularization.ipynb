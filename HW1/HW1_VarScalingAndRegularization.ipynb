{
 "cells": [
  {
   "cell_type": "code",
   "execution_count": 65,
   "id": "17e2204f-20ea-4425-86c7-9a98353fd2d6",
   "metadata": {},
   "outputs": [],
   "source": [
    "import numpy as np\n",
    "import pandas as pd\n",
    "\n",
    "# For Data Visualization\n",
    "import matplotlib.pyplot as plt\n",
    "import seaborn as sns"
   ]
  },
  {
   "cell_type": "code",
   "execution_count": 66,
   "id": "ca443ce0-c144-453e-b679-a22cb7b703e1",
   "metadata": {},
   "outputs": [
    {
     "data": {
      "text/html": [
       "<div>\n",
       "<style scoped>\n",
       "    .dataframe tbody tr th:only-of-type {\n",
       "        vertical-align: middle;\n",
       "    }\n",
       "\n",
       "    .dataframe tbody tr th {\n",
       "        vertical-align: top;\n",
       "    }\n",
       "\n",
       "    .dataframe thead th {\n",
       "        text-align: right;\n",
       "    }\n",
       "</style>\n",
       "<table border=\"1\" class=\"dataframe\">\n",
       "  <thead>\n",
       "    <tr style=\"text-align: right;\">\n",
       "      <th></th>\n",
       "      <th>price</th>\n",
       "      <th>area</th>\n",
       "      <th>bedrooms</th>\n",
       "      <th>bathrooms</th>\n",
       "      <th>stories</th>\n",
       "      <th>mainroad</th>\n",
       "      <th>guestroom</th>\n",
       "      <th>basement</th>\n",
       "      <th>hotwaterheating</th>\n",
       "      <th>airconditioning</th>\n",
       "      <th>parking</th>\n",
       "      <th>prefarea</th>\n",
       "      <th>furnishingstatus</th>\n",
       "    </tr>\n",
       "  </thead>\n",
       "  <tbody>\n",
       "    <tr>\n",
       "      <th>0</th>\n",
       "      <td>13300000</td>\n",
       "      <td>7420</td>\n",
       "      <td>4</td>\n",
       "      <td>2</td>\n",
       "      <td>3</td>\n",
       "      <td>yes</td>\n",
       "      <td>no</td>\n",
       "      <td>no</td>\n",
       "      <td>no</td>\n",
       "      <td>yes</td>\n",
       "      <td>2</td>\n",
       "      <td>yes</td>\n",
       "      <td>furnished</td>\n",
       "    </tr>\n",
       "    <tr>\n",
       "      <th>1</th>\n",
       "      <td>12250000</td>\n",
       "      <td>8960</td>\n",
       "      <td>4</td>\n",
       "      <td>4</td>\n",
       "      <td>4</td>\n",
       "      <td>yes</td>\n",
       "      <td>no</td>\n",
       "      <td>no</td>\n",
       "      <td>no</td>\n",
       "      <td>yes</td>\n",
       "      <td>3</td>\n",
       "      <td>no</td>\n",
       "      <td>furnished</td>\n",
       "    </tr>\n",
       "    <tr>\n",
       "      <th>2</th>\n",
       "      <td>12250000</td>\n",
       "      <td>9960</td>\n",
       "      <td>3</td>\n",
       "      <td>2</td>\n",
       "      <td>2</td>\n",
       "      <td>yes</td>\n",
       "      <td>no</td>\n",
       "      <td>yes</td>\n",
       "      <td>no</td>\n",
       "      <td>no</td>\n",
       "      <td>2</td>\n",
       "      <td>yes</td>\n",
       "      <td>semi-furnished</td>\n",
       "    </tr>\n",
       "    <tr>\n",
       "      <th>3</th>\n",
       "      <td>12215000</td>\n",
       "      <td>7500</td>\n",
       "      <td>4</td>\n",
       "      <td>2</td>\n",
       "      <td>2</td>\n",
       "      <td>yes</td>\n",
       "      <td>no</td>\n",
       "      <td>yes</td>\n",
       "      <td>no</td>\n",
       "      <td>yes</td>\n",
       "      <td>3</td>\n",
       "      <td>yes</td>\n",
       "      <td>furnished</td>\n",
       "    </tr>\n",
       "    <tr>\n",
       "      <th>4</th>\n",
       "      <td>11410000</td>\n",
       "      <td>7420</td>\n",
       "      <td>4</td>\n",
       "      <td>1</td>\n",
       "      <td>2</td>\n",
       "      <td>yes</td>\n",
       "      <td>yes</td>\n",
       "      <td>yes</td>\n",
       "      <td>no</td>\n",
       "      <td>yes</td>\n",
       "      <td>2</td>\n",
       "      <td>no</td>\n",
       "      <td>furnished</td>\n",
       "    </tr>\n",
       "  </tbody>\n",
       "</table>\n",
       "</div>"
      ],
      "text/plain": [
       "      price  area  bedrooms  bathrooms  stories mainroad guestroom basement  \\\n",
       "0  13300000  7420         4          2        3      yes        no       no   \n",
       "1  12250000  8960         4          4        4      yes        no       no   \n",
       "2  12250000  9960         3          2        2      yes        no      yes   \n",
       "3  12215000  7500         4          2        2      yes        no      yes   \n",
       "4  11410000  7420         4          1        2      yes       yes      yes   \n",
       "\n",
       "  hotwaterheating airconditioning  parking prefarea furnishingstatus  \n",
       "0              no             yes        2      yes        furnished  \n",
       "1              no             yes        3       no        furnished  \n",
       "2              no              no        2      yes   semi-furnished  \n",
       "3              no             yes        3      yes        furnished  \n",
       "4              no             yes        2       no        furnished  "
      ]
     },
     "execution_count": 66,
     "metadata": {},
     "output_type": "execute_result"
    }
   ],
   "source": [
    "housing = pd.DataFrame(pd.read_csv(\"./Housing.csv\"))\n",
    "housing.head()"
   ]
  },
  {
   "cell_type": "code",
   "execution_count": 67,
   "id": "7283f360-9eda-4221-96f1-2070f6589f8f",
   "metadata": {},
   "outputs": [
    {
     "data": {
      "text/html": [
       "<div>\n",
       "<style scoped>\n",
       "    .dataframe tbody tr th:only-of-type {\n",
       "        vertical-align: middle;\n",
       "    }\n",
       "\n",
       "    .dataframe tbody tr th {\n",
       "        vertical-align: top;\n",
       "    }\n",
       "\n",
       "    .dataframe thead th {\n",
       "        text-align: right;\n",
       "    }\n",
       "</style>\n",
       "<table border=\"1\" class=\"dataframe\">\n",
       "  <thead>\n",
       "    <tr style=\"text-align: right;\">\n",
       "      <th></th>\n",
       "      <th>price</th>\n",
       "      <th>area</th>\n",
       "      <th>bedrooms</th>\n",
       "      <th>bathrooms</th>\n",
       "      <th>stories</th>\n",
       "      <th>mainroad</th>\n",
       "      <th>guestroom</th>\n",
       "      <th>basement</th>\n",
       "      <th>hotwaterheating</th>\n",
       "      <th>airconditioning</th>\n",
       "      <th>parking</th>\n",
       "      <th>prefarea</th>\n",
       "      <th>furnishingstatus</th>\n",
       "    </tr>\n",
       "  </thead>\n",
       "  <tbody>\n",
       "    <tr>\n",
       "      <th>0</th>\n",
       "      <td>13300000</td>\n",
       "      <td>7420</td>\n",
       "      <td>4</td>\n",
       "      <td>2</td>\n",
       "      <td>3</td>\n",
       "      <td>1</td>\n",
       "      <td>0</td>\n",
       "      <td>0</td>\n",
       "      <td>0</td>\n",
       "      <td>1</td>\n",
       "      <td>2</td>\n",
       "      <td>1</td>\n",
       "      <td>furnished</td>\n",
       "    </tr>\n",
       "    <tr>\n",
       "      <th>1</th>\n",
       "      <td>12250000</td>\n",
       "      <td>8960</td>\n",
       "      <td>4</td>\n",
       "      <td>4</td>\n",
       "      <td>4</td>\n",
       "      <td>1</td>\n",
       "      <td>0</td>\n",
       "      <td>0</td>\n",
       "      <td>0</td>\n",
       "      <td>1</td>\n",
       "      <td>3</td>\n",
       "      <td>0</td>\n",
       "      <td>furnished</td>\n",
       "    </tr>\n",
       "    <tr>\n",
       "      <th>2</th>\n",
       "      <td>12250000</td>\n",
       "      <td>9960</td>\n",
       "      <td>3</td>\n",
       "      <td>2</td>\n",
       "      <td>2</td>\n",
       "      <td>1</td>\n",
       "      <td>0</td>\n",
       "      <td>1</td>\n",
       "      <td>0</td>\n",
       "      <td>0</td>\n",
       "      <td>2</td>\n",
       "      <td>1</td>\n",
       "      <td>semi-furnished</td>\n",
       "    </tr>\n",
       "    <tr>\n",
       "      <th>3</th>\n",
       "      <td>12215000</td>\n",
       "      <td>7500</td>\n",
       "      <td>4</td>\n",
       "      <td>2</td>\n",
       "      <td>2</td>\n",
       "      <td>1</td>\n",
       "      <td>0</td>\n",
       "      <td>1</td>\n",
       "      <td>0</td>\n",
       "      <td>1</td>\n",
       "      <td>3</td>\n",
       "      <td>1</td>\n",
       "      <td>furnished</td>\n",
       "    </tr>\n",
       "    <tr>\n",
       "      <th>4</th>\n",
       "      <td>11410000</td>\n",
       "      <td>7420</td>\n",
       "      <td>4</td>\n",
       "      <td>1</td>\n",
       "      <td>2</td>\n",
       "      <td>1</td>\n",
       "      <td>1</td>\n",
       "      <td>1</td>\n",
       "      <td>0</td>\n",
       "      <td>1</td>\n",
       "      <td>2</td>\n",
       "      <td>0</td>\n",
       "      <td>furnished</td>\n",
       "    </tr>\n",
       "  </tbody>\n",
       "</table>\n",
       "</div>"
      ],
      "text/plain": [
       "      price  area  bedrooms  bathrooms  stories  mainroad  guestroom  \\\n",
       "0  13300000  7420         4          2        3         1          0   \n",
       "1  12250000  8960         4          4        4         1          0   \n",
       "2  12250000  9960         3          2        2         1          0   \n",
       "3  12215000  7500         4          2        2         1          0   \n",
       "4  11410000  7420         4          1        2         1          1   \n",
       "\n",
       "   basement  hotwaterheating  airconditioning  parking  prefarea  \\\n",
       "0         0                0                1        2         1   \n",
       "1         0                0                1        3         0   \n",
       "2         1                0                0        2         1   \n",
       "3         1                0                1        3         1   \n",
       "4         1                0                1        2         0   \n",
       "\n",
       "  furnishingstatus  \n",
       "0        furnished  \n",
       "1        furnished  \n",
       "2   semi-furnished  \n",
       "3        furnished  \n",
       "4        furnished  "
      ]
     },
     "execution_count": 67,
     "metadata": {},
     "output_type": "execute_result"
    }
   ],
   "source": [
    "varlist = ['mainroad', 'guestroom', 'basement', 'hotwaterheating', 'airconditioning', 'prefarea']\n",
    "# Define map function\n",
    "def binary_map(x):\n",
    "    return x.map({'yes': 1, 'no': 0})\n",
    "\n",
    "# Applying the function to housing list\n",
    "housing[varlist] = housing[varlist].apply(binary_map)\n",
    "\n",
    "housing.head()"
   ]
  },
  {
   "cell_type": "code",
   "execution_count": 68,
   "id": "f49437a2-8ab6-4ab4-af18-8af79e8ac419",
   "metadata": {},
   "outputs": [
    {
     "data": {
      "text/plain": [
       "(436, 13)"
      ]
     },
     "execution_count": 68,
     "metadata": {},
     "output_type": "execute_result"
    }
   ],
   "source": [
    "# Splitting Data into Training and Validation Sets\n",
    "from sklearn.model_selection import train_test_split\n",
    "\n",
    "np.random.seed(0)\n",
    "df_train, df_test = train_test_split(housing, train_size = 0.8, test_size = 0.2)\n",
    "df_train.shape"
   ]
  },
  {
   "cell_type": "code",
   "execution_count": 69,
   "id": "5a39db45-9e4d-41d8-83b7-b08f7a3ca295",
   "metadata": {},
   "outputs": [
    {
     "data": {
      "text/plain": [
       "(109, 13)"
      ]
     },
     "execution_count": 69,
     "metadata": {},
     "output_type": "execute_result"
    }
   ],
   "source": [
    "df_test.shape"
   ]
  },
  {
   "cell_type": "code",
   "execution_count": 70,
   "id": "3ddcfdd8-1fde-4aec-8fcd-49bd516a5688",
   "metadata": {},
   "outputs": [
    {
     "data": {
      "text/html": [
       "<div>\n",
       "<style scoped>\n",
       "    .dataframe tbody tr th:only-of-type {\n",
       "        vertical-align: middle;\n",
       "    }\n",
       "\n",
       "    .dataframe tbody tr th {\n",
       "        vertical-align: top;\n",
       "    }\n",
       "\n",
       "    .dataframe thead th {\n",
       "        text-align: right;\n",
       "    }\n",
       "</style>\n",
       "<table border=\"1\" class=\"dataframe\">\n",
       "  <thead>\n",
       "    <tr style=\"text-align: right;\">\n",
       "      <th></th>\n",
       "      <th>area</th>\n",
       "      <th>bedrooms</th>\n",
       "      <th>bathrooms</th>\n",
       "      <th>stories</th>\n",
       "      <th>parking</th>\n",
       "      <th>price</th>\n",
       "    </tr>\n",
       "  </thead>\n",
       "  <tbody>\n",
       "    <tr>\n",
       "      <th>542</th>\n",
       "      <td>3620</td>\n",
       "      <td>2</td>\n",
       "      <td>1</td>\n",
       "      <td>1</td>\n",
       "      <td>0</td>\n",
       "      <td>1750000</td>\n",
       "    </tr>\n",
       "    <tr>\n",
       "      <th>496</th>\n",
       "      <td>4000</td>\n",
       "      <td>2</td>\n",
       "      <td>1</td>\n",
       "      <td>1</td>\n",
       "      <td>0</td>\n",
       "      <td>2695000</td>\n",
       "    </tr>\n",
       "    <tr>\n",
       "      <th>484</th>\n",
       "      <td>3040</td>\n",
       "      <td>2</td>\n",
       "      <td>1</td>\n",
       "      <td>1</td>\n",
       "      <td>0</td>\n",
       "      <td>2870000</td>\n",
       "    </tr>\n",
       "    <tr>\n",
       "      <th>507</th>\n",
       "      <td>3600</td>\n",
       "      <td>2</td>\n",
       "      <td>1</td>\n",
       "      <td>1</td>\n",
       "      <td>0</td>\n",
       "      <td>2590000</td>\n",
       "    </tr>\n",
       "    <tr>\n",
       "      <th>252</th>\n",
       "      <td>9860</td>\n",
       "      <td>3</td>\n",
       "      <td>1</td>\n",
       "      <td>1</td>\n",
       "      <td>0</td>\n",
       "      <td>4515000</td>\n",
       "    </tr>\n",
       "  </tbody>\n",
       "</table>\n",
       "</div>"
      ],
      "text/plain": [
       "     area  bedrooms  bathrooms  stories  parking    price\n",
       "542  3620         2          1        1        0  1750000\n",
       "496  4000         2          1        1        0  2695000\n",
       "484  3040         2          1        1        0  2870000\n",
       "507  3600         2          1        1        0  2590000\n",
       "252  9860         3          1        1        0  4515000"
      ]
     },
     "execution_count": 70,
     "metadata": {},
     "output_type": "execute_result"
    }
   ],
   "source": [
    "# Problem 1a\n",
    "num_vars_1a = ['area', 'bedrooms', 'bathrooms', 'stories', 'parking', 'price']\n",
    "df_newTrain_1a = df_train[num_vars_1a]\n",
    "df_newTest_1a = df_test[num_vars_1a]\n",
    "df_newTrain_1a.head()"
   ]
  },
  {
   "cell_type": "code",
   "execution_count": 71,
   "id": "cf3a8413-34b8-4262-8692-8f98b1113e3a",
   "metadata": {},
   "outputs": [],
   "source": [
    "def compute_cost(X, y, theta):\n",
    " predictions = X.dot(theta) # H = X * Theta \n",
    " errors = np.subtract(predictions, y) # H - Y\n",
    " sqrErrors = np.square(errors) # Square of above\n",
    " J = 1 / (2 * m) * np.sum(sqrErrors) # Sum of above array, multiply by 1/(2m)\n",
    " return J"
   ]
  },
  {
   "cell_type": "code",
   "execution_count": 82,
   "id": "8d4191f5-6412-46c9-94db-6a2562edb46e",
   "metadata": {},
   "outputs": [],
   "source": [
    "def gradient_descent(X, y, theta, alpha, iterations, xTest, yTest):\n",
    " cost_history = np.zeros(iterations) # Store loss calculations in array to be able to plot gradient descent\n",
    " testCost_history = np.zeros(iterations) # Store validation loss\n",
    " for i in range(iterations):\n",
    "    predictions = X.dot(theta) # H = X * Theta\n",
    "    errors = np.subtract(predictions, y) # H - Y\n",
    "    derivLoss = (1 / m) * X.transpose().dot(errors); # Finishes derivative of loss calculation\n",
    "    theta = theta - (alpha * derivLoss); # Calculates for new thetas\n",
    "    cost_history[i] = compute_cost(X, y, theta) # Stores new cost from the new thetas\n",
    "    testCost_history[i] = compute_cost(xTest, yTest, theta) # Stores validation cost from new thetas\n",
    " return theta, cost_history, testCost_history"
   ]
  },
  {
   "cell_type": "code",
   "execution_count": 76,
   "id": "1022a6f4-8f09-41f3-bf3f-944beefbd79f",
   "metadata": {},
   "outputs": [
    {
     "data": {
      "text/plain": [
       "436"
      ]
     },
     "execution_count": 76,
     "metadata": {},
     "output_type": "execute_result"
    }
   ],
   "source": [
    "m_1a = len(df_newTrain_1a)\n",
    "testM_1a = len(df_newTest_1a)\n",
    "m_1a"
   ]
  },
  {
   "cell_type": "code",
   "execution_count": 77,
   "id": "0a7419f5-522a-41e3-a2af-f8094abaf58b",
   "metadata": {},
   "outputs": [
    {
     "data": {
      "text/plain": [
       "array([[1.],\n",
       "       [1.],\n",
       "       [1.],\n",
       "       [1.],\n",
       "       [1.]])"
      ]
     },
     "execution_count": 77,
     "metadata": {},
     "output_type": "execute_result"
    }
   ],
   "source": [
    "#y_newTrain_1a = df_newTrain_1a.pop('price')\n",
    "#x_newTrain_1a = df_newTrain_1a.copy()\n",
    "\n",
    "X0_1a = np.ones((m_1a,1))\n",
    "testX0_1a = np.ones((testM_1a,1))\n",
    "X0_1a[:5]"
   ]
  },
  {
   "cell_type": "code",
   "execution_count": 91,
   "id": "b61d78d0-b28e-4242-a12b-6e6f665a0867",
   "metadata": {},
   "outputs": [
    {
     "data": {
      "text/plain": [
       "array([[1.000e+00, 3.620e+03, 2.000e+00, 1.000e+00, 1.000e+00, 0.000e+00],\n",
       "       [1.000e+00, 4.000e+03, 2.000e+00, 1.000e+00, 1.000e+00, 0.000e+00],\n",
       "       [1.000e+00, 3.040e+03, 2.000e+00, 1.000e+00, 1.000e+00, 0.000e+00],\n",
       "       [1.000e+00, 3.600e+03, 2.000e+00, 1.000e+00, 1.000e+00, 0.000e+00],\n",
       "       [1.000e+00, 9.860e+03, 3.000e+00, 1.000e+00, 1.000e+00, 0.000e+00],\n",
       "       [1.000e+00, 3.968e+03, 3.000e+00, 1.000e+00, 2.000e+00, 0.000e+00],\n",
       "       [1.000e+00, 3.840e+03, 3.000e+00, 1.000e+00, 2.000e+00, 1.000e+00],\n",
       "       [1.000e+00, 9.800e+03, 4.000e+00, 2.000e+00, 2.000e+00, 2.000e+00],\n",
       "       [1.000e+00, 3.640e+03, 2.000e+00, 1.000e+00, 1.000e+00, 0.000e+00],\n",
       "       [1.000e+00, 3.520e+03, 2.000e+00, 2.000e+00, 1.000e+00, 0.000e+00]])"
      ]
     },
     "execution_count": 91,
     "metadata": {},
     "output_type": "execute_result"
    }
   ],
   "source": [
    "X_1a = df_newTrain_1a.values[:,0:5]\n",
    "y_1a = df_newTrain_1a.values[:,5]\n",
    "\n",
    "testX_1a = df_newTest_1a.values[:,0:5]\n",
    "testy_1a = df_newTest_1a.values[:,5]\n",
    "\n",
    "X = np.hstack((X0_1a, X_1a))\n",
    "testX = np.hstack((testX0_1a, testX_1a))\n",
    "X[:10]"
   ]
  },
  {
   "cell_type": "code",
   "execution_count": 85,
   "id": "fb534421-dc24-4768-a660-ad5e2f79567c",
   "metadata": {},
   "outputs": [
    {
     "data": {
      "text/plain": [
       "array([1750000, 2695000, 2870000, 2590000, 4515000], dtype=int64)"
      ]
     },
     "execution_count": 85,
     "metadata": {},
     "output_type": "execute_result"
    }
   ],
   "source": [
    "y_1a[:5]"
   ]
  },
  {
   "cell_type": "code",
   "execution_count": 86,
   "id": "6e4e95df-e5ef-496b-9d45-1fc03c0cba93",
   "metadata": {},
   "outputs": [
    {
     "name": "stdout",
     "output_type": "stream",
     "text": [
      "The cost for given values of theta_0, theta_1, theta_2, theta_3, theta_4, and theta5 = 13234989983633.717\n"
     ]
    }
   ],
   "source": [
    "thetaX_1a = [0., 0., 0., 0., 0., 0.]\n",
    "costX_1a = compute_cost(X, y_1a, thetaX_1a)\n",
    "print('The cost for given values of theta_0, theta_1, theta_2, theta_3, theta_4, and theta5 =', costX_1a)"
   ]
  },
  {
   "cell_type": "code",
   "execution_count": 92,
   "id": "c89699fe-f987-46b2-9f93-e84f2e70e670",
   "metadata": {},
   "outputs": [
    {
     "name": "stdout",
     "output_type": "stream",
     "text": [
      "Final value of theta for 1a = [  5.2711788  861.01804773  20.44776675  11.45077712  17.6602321\n",
      "   5.10580589]\n",
      "cost_history for 1a = [7.17754171e+12 4.30235563e+12 2.93763989e+12 ... 1.70455548e+12\n",
      " 1.70455544e+12 1.70455541e+12]\n",
      "testCost_history for 1a = [1.65980289e+12 9.65051068e+11 6.43508710e+11 ... 3.87649712e+11\n",
      " 3.87649701e+11 3.87649690e+11]\n"
     ]
    }
   ],
   "source": [
    "alphaX_1a = 0.00000001;\n",
    "iterations = 1500;\n",
    "thetaX_1a, costX_1a_history, testCostX_1a_history = gradient_descent(X, y_1a, thetaX_1a, alphaX_1a, iterations, testX, testy_1a)\n",
    "print('Final value of theta for 1a =', thetaX_1a)\n",
    "print('cost_history for 1a =', costX_1a_history)\n",
    "print('testCost_history for 1a =', testCostX_1a_history)"
   ]
  },
  {
   "cell_type": "code",
   "execution_count": null,
   "id": "6ebf97c8-4598-4e8d-abc2-7c5c6370b460",
   "metadata": {},
   "outputs": [],
   "source": [
    "# Test Set evaluation\n"
   ]
  },
  {
   "cell_type": "code",
   "execution_count": 93,
   "id": "d4a3f87e-d8f1-4870-945b-882aea4f1967",
   "metadata": {},
   "outputs": [
    {
     "data": {
      "text/plain": [
       "Text(0.5, 1.0, 'Convergence of gradient descent')"
      ]
     },
     "execution_count": 93,
     "metadata": {},
     "output_type": "execute_result"
    },
    {
     "data": {
      "image/png": "[encoded data removed]",
      "text/plain": [
       "<Figure size 720x432 with 1 Axes>"
      ]
     },
     "metadata": {
      "needs_background": "light"
     },
     "output_type": "display_data"
    }
   ],
   "source": [
    "plt.plot(range(1, iterations + 1),costX_1a_history, color='blue')\n",
    "plt.plot(range(1, iterations + 1),testCostX_1a_history, color='red')\n",
    "plt.rcParams[\"figure.figsize\"] = (10,6)\n",
    "plt.grid()\n",
    "plt.xlabel('Number of iterations')\n",
    "plt.ylabel('Cost (J)')\n",
    "plt.title('Convergence of gradient descent')"
   ]
  },
  {
   "cell_type": "code",
   "execution_count": null,
   "id": "8dcccb79-c601-44a3-87ca-6f5e6e2f023f",
   "metadata": {},
   "outputs": [],
   "source": []
  }
 ],
 "metadata": {
  "kernelspec": {
   "display_name": "Python 3 (ipykernel)",
   "language": "python",
   "name": "python3"
  },
  "language_info": {
   "codemirror_mode": {
    "name": "ipython",
    "version": 3
   },
   "file_extension": ".py",
   "mimetype": "text/x-python",
   "name": "python",
   "nbconvert_exporter": "python",
   "pygments_lexer": "ipython3",
   "version": "3.9.12"
  }
 },
 "nbformat": 4,
 "nbformat_minor": 5
}
