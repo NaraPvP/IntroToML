{
 "cells": [
  {
   "cell_type": "code",
   "execution_count": 48,
   "id": "fece17b1-d9e6-4baa-ba7a-0b99bcff1807",
   "metadata": {},
   "outputs": [],
   "source": [
    "# Library import code from book\n",
    "%matplotlib inline\n",
    "from matplotlib import pyplot as plt\n",
    "import numpy as np\n",
    "import torch\n",
    "import torch.nn as nn\n",
    "import torch.nn.functional as F\n",
    "import torch.optim as optim\n",
    "\n",
    "# Personal imports\n",
    "import pandas as pd\n",
    "from sklearn.preprocessing import MinMaxScaler, StandardScaler\n",
    "from sklearn.model_selection import train_test_split\n",
    "import time\n",
    "import datetime\n",
    "\n",
    "from torchvision import datasets\n",
    "from torchvision import transforms\n",
    "import torch.nn.functional as F"
   ]
  },
  {
   "cell_type": "code",
   "execution_count": 49,
   "id": "b80da705-bd48-45a4-a161-e0e5d4dc20af",
   "metadata": {},
   "outputs": [
    {
     "data": {
      "text/plain": [
       "device(type='cuda')"
      ]
     },
     "execution_count": 49,
     "metadata": {},
     "output_type": "execute_result"
    }
   ],
   "source": [
    "if torch.cuda.is_available():\n",
    "    # Create a device object for the GPU\n",
    "    device = torch.device('cuda')\n",
    "else:\n",
    "    # Create a device object for the CPU\n",
    "    device = torch.device('cpu')\n",
    "device"
   ]
  },
  {
   "cell_type": "code",
   "execution_count": 50,
   "id": "c135919a-6823-4dfe-b71e-7af4b2b97b00",
   "metadata": {},
   "outputs": [],
   "source": [
    "data_path = '../data-unversioned/p1ch7/'\n",
    "cifar10 = datasets.CIFAR10(data_path, train=True, download=False)\n",
    "cifar10_val = datasets.CIFAR10(data_path, train=False, download=False)"
   ]
  },
  {
   "cell_type": "code",
   "execution_count": 51,
   "id": "8c1cfe2e-bbda-47fd-ad66-ef089cf6460c",
   "metadata": {},
   "outputs": [],
   "source": [
    "transformed_cifar10 = datasets.CIFAR10(\n",
    "    data_path, train=True, download=False,\n",
    "    transform=transforms.Compose([\n",
    "        transforms.ToTensor(),\n",
    "        transforms.Normalize((0.4915, 0.4823, 0.4468),\n",
    "                             (0.2470, 0.2435, 0.2616))\n",
    "    ]))\n",
    "transformed_cifar10_val = datasets.CIFAR10(\n",
    "    data_path, train=False, download=False,\n",
    "    transform=transforms.Compose([\n",
    "        transforms.ToTensor(),\n",
    "        transforms.Normalize((0.4915, 0.4823, 0.4468),\n",
    "                             (0.2470, 0.2435, 0.2616))\n",
    "    ]))"
   ]
  },
  {
   "cell_type": "markdown",
   "id": "321d99ba-437c-469f-ba5d-85e42cc4c827",
   "metadata": {},
   "source": [
    "# Problem 2A: CNN with two hidden layers\n",
    "\n",
    "Since MaxPool and Activation Function do not have parameters that need to be trained, the functional version of these elements will be used instead (where the outputs from each node layer will be passed into these functions)."
   ]
  },
  {
   "cell_type": "code",
   "execution_count": 52,
   "id": "d60e2cbe-5108-4c06-9841-05e4a8b30625",
   "metadata": {},
   "outputs": [],
   "source": [
    "class Net(nn.Module):\n",
    "    def __init__(self):\n",
    "        super().__init__()\n",
    "        self.conv1 = nn.Conv2d(3, 16, kernel_size=3, padding=1)\n",
    "        self.conv2 = nn.Conv2d(16, 8, kernel_size=3, padding=1)\n",
    "        self.fc1 = nn.Linear(8 * 8 * 8, 32)\n",
    "        self.fc2 = nn.Linear(32, 10)\n",
    "        \n",
    "    def forward(self, x):\n",
    "        out = F.max_pool2d(torch.tanh(self.conv1(x)), 2)\n",
    "        out = F.max_pool2d(torch.tanh(self.conv2(out)), 2)\n",
    "        out = out.view(-1, 8 * 8 * 8)\n",
    "        out = torch.tanh(self.fc1(out))\n",
    "        out = self.fc2(out)\n",
    "        return out"
   ]
  },
  {
   "cell_type": "code",
   "execution_count": 56,
   "id": "df3ae16d-ace7-442b-945f-57f34ac7d3c9",
   "metadata": {},
   "outputs": [],
   "source": [
    "def training_loop(n_epochs, optimizer, model, loss_fn, train_loader, val_loader,\n",
    "                  train_loss, val_loss):\n",
    "    timer_s = time.time()\n",
    "    for epoch in range(0, n_epochs):\n",
    "        loss_train = 0.0\n",
    "        loss_val = 0.0\n",
    "        for imgs, labels in train_loader:\n",
    "            imgs = imgs.to(device)\n",
    "            labels = labels.to(device)\n",
    "            outputs = model(imgs)\n",
    "            t_loss = loss_fn(outputs, labels)\n",
    "\n",
    "            optimizer.zero_grad()\n",
    "            torch.cuda.empty_cache()\n",
    "            t_loss.backward()\n",
    "            optimizer.step()\n",
    "\n",
    "            loss_train += t_loss.item()\n",
    "            \n",
    "        for imgs, labels in val_loader:\n",
    "            imgs = imgs.to(device)\n",
    "            labels = labels.to(device)\n",
    "            outputs = model(imgs)\n",
    "            v_loss = loss_fn(outputs, labels)\n",
    "            \n",
    "            loss_val += v_loss.item()\n",
    "        \n",
    "        train_loss.append(loss_train/len(train_loader))\n",
    "        val_loss.append(loss_val/len(val_loader))\n",
    "        \n",
    "        if epoch % 30 == 0 or epoch == 299:\n",
    "            print('Epoch {}, Training loss {}, Validation loss {}'.format(\n",
    "                epoch, loss_train / len(train_loader),\n",
    "                loss_val/len(val_loader)))\n",
    "    timer_e = time.time()\n",
    "    train_time = timer_e - timer_s\n",
    "    print(\"Training Time:\", train_time, \"seconds\")"
   ]
  },
  {
   "cell_type": "code",
   "execution_count": 57,
   "id": "53a0bacf-dc21-4708-9380-9c51ca5e1595",
   "metadata": {},
   "outputs": [],
   "source": [
    "torch.cuda.empty_cache()\n",
    "train_loader = torch.utils.data.DataLoader(transformed_cifar10, batch_size=64,\n",
    "                                           shuffle=True)\n",
    "val_loader = torch.utils.data.DataLoader(transformed_cifar10_val, batch_size=64,\n",
    "                                           shuffle=True)\n",
    "model = Net()\n",
    "model = model.to(device)\n",
    "\n",
    "learning_rate = 1e-3\n",
    "optimizer = optim.SGD(model.parameters(), lr=learning_rate)\n",
    "loss_fn = nn.CrossEntropyLoss()\n",
    "# optimizer = optimizer.to(device)\n",
    "loss_fn = loss_fn.to(device)\n",
    "\n",
    "train_loss = []\n",
    "val_loss = []"
   ]
  },
  {
   "cell_type": "code",
   "execution_count": 58,
   "id": "43a2c27b-28d3-4ee7-bbae-09066b604ca9",
   "metadata": {},
   "outputs": [
    {
     "name": "stdout",
     "output_type": "stream",
     "text": [
      "Epoch 0, Training loss 2.2831570303348627, Validation loss 2.243882756324331\n",
      "Epoch 30, Training loss 1.5458097459410158, Validation loss 1.531758727541395\n",
      "Epoch 60, Training loss 1.3636351297883427, Validation loss 1.3613317848011186\n",
      "Epoch 90, Training loss 1.2277369410790446, Validation loss 1.2398202043430062\n",
      "Epoch 120, Training loss 1.1006188426938508, Validation loss 1.124895600376615\n",
      "Epoch 150, Training loss 1.0229382665870745, Validation loss 1.067679418500062\n",
      "Epoch 180, Training loss 0.9690379347185345, Validation loss 1.01651333623631\n",
      "Epoch 210, Training loss 0.9313014038383504, Validation loss 1.029131023367499\n",
      "Epoch 240, Training loss 0.9020522409082984, Validation loss 0.9790690886746546\n",
      "Epoch 270, Training loss 0.8769501789146678, Validation loss 0.9634382793098498\n",
      "Epoch 299, Training loss 0.857290778280524, Validation loss 0.9641073258819094\n",
      "Training Time: 5524.452919244766 seconds\n"
     ]
    }
   ],
   "source": [
    "training_loop(\n",
    "    n_epochs = 300,\n",
    "    optimizer = optimizer,\n",
    "    model = model,\n",
    "    loss_fn = loss_fn,\n",
    "    train_loader = train_loader,\n",
    "    val_loader = val_loader,\n",
    "    train_loss = train_loss,\n",
    "    val_loss = val_loss\n",
    ")"
   ]
  },
  {
   "cell_type": "code",
   "execution_count": 59,
   "id": "289baf61-0366-43dc-8ca1-eca2dbd20676",
   "metadata": {},
   "outputs": [],
   "source": [
    "torch.save(model.state_dict(), 'CIFAR10_1LayerCNN.pt')"
   ]
  },
  {
   "cell_type": "code",
   "execution_count": 61,
   "id": "b57fd4b2-e545-410d-8ae5-c5a04222b4dd",
   "metadata": {},
   "outputs": [],
   "source": [
    "torch.cuda.empty_cache()"
   ]
  },
  {
   "cell_type": "code",
   "execution_count": null,
   "id": "b8424e7c-11c9-407c-bec4-bb013aa874e7",
   "metadata": {},
   "outputs": [],
   "source": [
    "# Plot Training and Validation Loss over epochs\n",
    "plt.figure(1)\n",
    "plt.plot(range(n_epochs), train_loss, 'g')\n",
    "plt.plot(range(n_epochs), val_loss, 'b')\n",
    "plt.title(\"Loss vs epochs\")\n",
    "plt.xlabel('# of epochs')\n",
    "plt.ylabel('Loss')\n",
    "plt.show()"
   ]
  },
  {
   "cell_type": "code",
   "execution_count": 64,
   "id": "ec7bd7eb-2629-4972-a845-c5eda81f8622",
   "metadata": {},
   "outputs": [
    {
     "name": "stdout",
     "output_type": "stream",
     "text": [
      "Training Accuracy: 0.696000\n",
      "Validation Accuracy: 0.662900\n"
     ]
    }
   ],
   "source": [
    "# Training Accuracy\n",
    "train_loader = torch.utils.data.DataLoader(transformed_cifar10, batch_size=64,\n",
    "                                           shuffle=False)\n",
    "train_correct = 0\n",
    "train_total = 0\n",
    "\n",
    "with torch.no_grad():\n",
    "    for imgs, labels in train_loader:\n",
    "        imgs = imgs.to(device)\n",
    "        labels = labels.to(device)\n",
    "        \n",
    "        outputs = model(imgs)\n",
    "        _, predicted = torch.max(outputs, dim=1)\n",
    "        train_total += labels.shape[0]\n",
    "        train_correct += int((predicted == labels).sum())\n",
    "        \n",
    "print(\"Training Accuracy: %f\" % (train_correct / train_total))\n",
    "\n",
    "# Validation Accuracy\n",
    "val_loader = torch.utils.data.DataLoader(transformed_cifar10_val, batch_size=64,\n",
    "                                           shuffle=False)\n",
    "val_correct = 0\n",
    "val_total = 0\n",
    "\n",
    "with torch.no_grad():\n",
    "    for imgs, labels in val_loader:\n",
    "        imgs = imgs.to(device)\n",
    "        labels = labels.to(device)\n",
    "        \n",
    "        outputs = model(imgs)\n",
    "        _, predicted = torch.max(outputs, dim=1)\n",
    "        val_total += labels.shape[0]\n",
    "        val_correct += int((predicted == labels).sum())\n",
    "        \n",
    "print(\"Validation Accuracy: %f\" % (val_correct / val_total))"
   ]
  },
  {
   "cell_type": "markdown",
   "id": "05e74bb6-f22d-40cb-a2ef-071bbd05a193",
   "metadata": {},
   "source": [
    "# Problem 2B: CNN with an additional layer"
   ]
  },
  {
   "cell_type": "code",
   "execution_count": 80,
   "id": "abc0e0fd-251e-4911-b4a2-893d93484ee9",
   "metadata": {},
   "outputs": [],
   "source": [
    "class Net_3conv(nn.Module):\n",
    "    def __init__(self):\n",
    "        super().__init__()\n",
    "        self.conv1 = nn.Conv2d(3, 16, kernel_size=3, padding=1)\n",
    "        self.conv2 = nn.Conv2d(16, 32, kernel_size=3, padding=1)\n",
    "        self.conv3 = nn.Conv2d(32, 64, kernel_size=3, padding=1)\n",
    "        self.fc1 = nn.Linear(64 * 4 * 4, 32)\n",
    "        self.fc2 = nn.Linear(32, 10)\n",
    "        \n",
    "    def forward(self, x):\n",
    "        out = F.max_pool2d(torch.tanh(self.conv1(x)), 2)\n",
    "        out = F.max_pool2d(torch.tanh(self.conv2(out)), 2)\n",
    "        out = F.max_pool2d(torch.tanh(self.conv3(out)), 2)\n",
    "        out = out.view(-1, 64 * 4 * 4)\n",
    "        out = torch.tanh(self.fc1(out))\n",
    "        out = self.fc2(out)\n",
    "        return out"
   ]
  },
  {
   "cell_type": "code",
   "execution_count": 81,
   "id": "de305b2a-a06e-41f4-8ad1-16d262c6645c",
   "metadata": {},
   "outputs": [],
   "source": [
    "torch.cuda.empty_cache()\n",
    "train_loader = torch.utils.data.DataLoader(transformed_cifar10, batch_size=64,\n",
    "                                           shuffle=True)\n",
    "val_loader = torch.utils.data.DataLoader(transformed_cifar10_val, batch_size=64,\n",
    "                                           shuffle=True)\n",
    "model_3conv = Net_3conv().to(device)\n",
    "\n",
    "learning_rate = 1e-3\n",
    "optimizer = optim.SGD(model_3conv.parameters(), lr=learning_rate)\n",
    "loss_fn_3 = nn.CrossEntropyLoss()\n",
    "# optimizer = optimizer.to(device)\n",
    "loss_fn_3 = loss_fn_3.to(device)\n",
    "\n",
    "train_loss_3conv = []\n",
    "val_loss_3conv = []"
   ]
  },
  {
   "cell_type": "code",
   "execution_count": 82,
   "id": "3520b37f-af32-4606-9084-37ee5a702aa3",
   "metadata": {},
   "outputs": [
    {
     "name": "stdout",
     "output_type": "stream",
     "text": [
      "Epoch 0, Training loss 2.2983914491770516, Validation loss 2.284728853565872\n",
      "Epoch 30, Training loss 1.5436920279737019, Validation loss 1.5278783171040238\n",
      "Epoch 60, Training loss 1.2742418855657358, Validation loss 1.2689268831994123\n",
      "Epoch 90, Training loss 1.098003488291255, Validation loss 1.1130929923361275\n",
      "Epoch 120, Training loss 0.9730362661201936, Validation loss 1.004539734618679\n",
      "Epoch 150, Training loss 0.8726362977796198, Validation loss 0.9264594536678047\n",
      "Epoch 180, Training loss 0.792600735679002, Validation loss 0.8676711761268081\n",
      "Epoch 210, Training loss 0.7288371145039263, Validation loss 0.8315076888746517\n",
      "Epoch 240, Training loss 0.6752930858251079, Validation loss 0.8096057506883221\n",
      "Epoch 270, Training loss 0.6288914327578776, Validation loss 0.7833951705959952\n",
      "Epoch 299, Training loss 0.5890144555617476, Validation loss 0.7769650934608119\n",
      "Training Time: 5670.2540946006775 seconds\n"
     ]
    }
   ],
   "source": [
    "training_loop(\n",
    "    n_epochs = 300,\n",
    "    optimizer = optimizer,\n",
    "    model = model_3conv,\n",
    "    loss_fn = loss_fn_3,\n",
    "    train_loader = train_loader,\n",
    "    val_loader = val_loader,\n",
    "    train_loss = train_loss_3conv,\n",
    "    val_loss = val_loss_3conv\n",
    ")"
   ]
  },
  {
   "cell_type": "code",
   "execution_count": 83,
   "id": "91561cae-d450-4f31-92c2-5c317754c710",
   "metadata": {},
   "outputs": [],
   "source": [
    "torch.save(model_3conv.state_dict(), 'CIFAR10_3LayerCNN.pt')"
   ]
  },
  {
   "cell_type": "code",
   "execution_count": 84,
   "id": "8c9ca0fb-e5c3-499e-83c6-66fc5c360d2f",
   "metadata": {},
   "outputs": [],
   "source": [
    "torch.cuda.empty_cache()"
   ]
  },
  {
   "cell_type": "code",
   "execution_count": 86,
   "id": "84f7c239-6d29-49e3-b41e-ebef59e3e2bf",
   "metadata": {},
   "outputs": [
    {
     "name": "stdout",
     "output_type": "stream",
     "text": [
      "Training Accuracy: 0.800320\n",
      "Validation Accuracy: 0.730200\n"
     ]
    }
   ],
   "source": [
    "# Training Accuracy\n",
    "train_loader = torch.utils.data.DataLoader(transformed_cifar10, batch_size=64,\n",
    "                                           shuffle=False)\n",
    "train_correct = 0\n",
    "train_total = 0\n",
    "\n",
    "with torch.no_grad():\n",
    "    for imgs, labels in train_loader:\n",
    "        imgs = imgs.to(device)\n",
    "        labels = labels.to(device)\n",
    "        \n",
    "        outputs = model_3conv(imgs)\n",
    "        _, predicted = torch.max(outputs, dim=1)\n",
    "        train_total += labels.shape[0]\n",
    "        train_correct += int((predicted == labels).sum())\n",
    "        \n",
    "print(\"Training Accuracy: %f\" % (train_correct / train_total))\n",
    "\n",
    "# Validation Accuracy\n",
    "val_loader = torch.utils.data.DataLoader(transformed_cifar10_val, batch_size=64,\n",
    "                                           shuffle=False)\n",
    "val_correct = 0\n",
    "val_total = 0\n",
    "\n",
    "with torch.no_grad():\n",
    "    for imgs, labels in val_loader:\n",
    "        imgs = imgs.to(device)\n",
    "        labels = labels.to(device)\n",
    "        \n",
    "        outputs = model_3conv(imgs)\n",
    "        _, predicted = torch.max(outputs, dim=1)\n",
    "        val_total += labels.shape[0]\n",
    "        val_correct += int((predicted == labels).sum())\n",
    "        \n",
    "print(\"Validation Accuracy: %f\" % (val_correct / val_total))"
   ]
  },
  {
   "cell_type": "code",
   "execution_count": 87,
   "id": "d230c876-939e-4087-8337-ba08fa659ea0",
   "metadata": {},
   "outputs": [
    {
     "data": {
      "image/png": "[encoded data removed]",
      "text/plain": [
       "<Figure size 432x288 with 1 Axes>"
      ]
     },
     "metadata": {
      "needs_background": "light"
     },
     "output_type": "display_data"
    }
   ],
   "source": [
    "# Plot Training and Validation Loss over epochs\n",
    "plt.figure(1)\n",
    "plt.plot(range(n_epochs), train_loss_3conv, 'g')\n",
    "plt.plot(range(n_epochs), val_loss_3conv, 'b')\n",
    "plt.title(\"Loss vs epochs\")\n",
    "plt.xlabel('# of epochs')\n",
    "plt.ylabel('Loss')\n",
    "plt.show()"
   ]
  },
  {
   "cell_type": "code",
   "execution_count": null,
   "id": "a14e30b6-7d7e-406e-9c9a-6a6ef26db521",
   "metadata": {},
   "outputs": [],
   "source": []
  }
 ],
 "metadata": {
  "kernelspec": {
   "display_name": "Python 3 (ipykernel)",
   "language": "python",
   "name": "python3"
  },
  "language_info": {
   "codemirror_mode": {
    "name": "ipython",
    "version": 3
   },
   "file_extension": ".py",
   "mimetype": "text/x-python",
   "name": "python",
   "nbconvert_exporter": "python",
   "pygments_lexer": "ipython3",
   "version": "3.9.12"
  }
 },
 "nbformat": 4,
 "nbformat_minor": 5
}
