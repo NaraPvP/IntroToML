{
 "cells": [
  {
   "cell_type": "code",
   "execution_count": 2,
   "id": "c683820f-cac0-4d96-812f-2241c91cf4bc",
   "metadata": {},
   "outputs": [],
   "source": [
    "import numpy as np\n",
    "import matplotlib.pyplot as plt\n",
    "import pandas as pd"
   ]
  },
  {
   "cell_type": "code",
   "execution_count": 3,
   "id": "5ae75c98-4a84-45a2-95dc-8aa21d49989f",
   "metadata": {},
   "outputs": [],
   "source": [
    "#Read data from D3.csv as our dataset\n",
    "dataset = pd.read_csv('./D3.csv')"
   ]
  },
  {
   "cell_type": "code",
   "execution_count": 4,
   "id": "21967cc7-749f-493d-9e27-4ba213b17276",
   "metadata": {},
   "outputs": [
    {
     "data": {
      "text/html": [
       "<div>\n",
       "<style scoped>\n",
       "    .dataframe tbody tr th:only-of-type {\n",
       "        vertical-align: middle;\n",
       "    }\n",
       "\n",
       "    .dataframe tbody tr th {\n",
       "        vertical-align: top;\n",
       "    }\n",
       "\n",
       "    .dataframe thead th {\n",
       "        text-align: right;\n",
       "    }\n",
       "</style>\n",
       "<table border=\"1\" class=\"dataframe\">\n",
       "  <thead>\n",
       "    <tr style=\"text-align: right;\">\n",
       "      <th></th>\n",
       "      <th>X1</th>\n",
       "      <th>X2</th>\n",
       "      <th>X3</th>\n",
       "      <th>Y</th>\n",
       "    </tr>\n",
       "  </thead>\n",
       "  <tbody>\n",
       "    <tr>\n",
       "      <th>0</th>\n",
       "      <td>0.000000</td>\n",
       "      <td>3.440000</td>\n",
       "      <td>0.440000</td>\n",
       "      <td>4.387545</td>\n",
       "    </tr>\n",
       "    <tr>\n",
       "      <th>1</th>\n",
       "      <td>0.040404</td>\n",
       "      <td>0.134949</td>\n",
       "      <td>0.888485</td>\n",
       "      <td>2.679650</td>\n",
       "    </tr>\n",
       "    <tr>\n",
       "      <th>2</th>\n",
       "      <td>0.080808</td>\n",
       "      <td>0.829899</td>\n",
       "      <td>1.336970</td>\n",
       "      <td>2.968490</td>\n",
       "    </tr>\n",
       "    <tr>\n",
       "      <th>3</th>\n",
       "      <td>0.121212</td>\n",
       "      <td>1.524848</td>\n",
       "      <td>1.785455</td>\n",
       "      <td>3.254065</td>\n",
       "    </tr>\n",
       "    <tr>\n",
       "      <th>4</th>\n",
       "      <td>0.161616</td>\n",
       "      <td>2.219798</td>\n",
       "      <td>2.233939</td>\n",
       "      <td>3.536375</td>\n",
       "    </tr>\n",
       "  </tbody>\n",
       "</table>\n",
       "</div>"
      ],
      "text/plain": [
       "         X1        X2        X3         Y\n",
       "0  0.000000  3.440000  0.440000  4.387545\n",
       "1  0.040404  0.134949  0.888485  2.679650\n",
       "2  0.080808  0.829899  1.336970  2.968490\n",
       "3  0.121212  1.524848  1.785455  3.254065\n",
       "4  0.161616  2.219798  2.233939  3.536375"
      ]
     },
     "execution_count": 4,
     "metadata": {},
     "output_type": "execute_result"
    }
   ],
   "source": [
    "dataset.head() #default value of .head() is 5 rows"
   ]
  },
  {
   "cell_type": "code",
   "execution_count": 8,
   "id": "63ef4388-d9d2-4283-ba88-c278d74c2703",
   "metadata": {},
   "outputs": [
    {
     "data": {
      "text/plain": [
       "100"
      ]
     },
     "execution_count": 8,
     "metadata": {},
     "output_type": "execute_result"
    }
   ],
   "source": [
    "M = len(dataset)\n",
    "M"
   ]
  },
  {
   "cell_type": "raw",
   "id": "0a4a5ab6-aba4-4d9c-b378-929f1a03599a",
   "metadata": {},
   "source": [
    "X1 = dataset.values[:,0]\n",
    "X2 = dataset.values[:,1]\n",
    "X3 = dataset.values[:,2]\n",
    "y = dataset.values[:,3]\n",
    "m = len(y)\n",
    "print('X1 = ', X1[: 5])\n",
    "print('X2 = ', X2[: 5])\n",
    "print('X3 = ', X3[: 5])\n",
    "print('y = ', y[: 5]) "
   ]
  },
  {
   "cell_type": "code",
   "execution_count": null,
   "id": "09205fcf-cc49-4043-822b-b30c00de7d6f",
   "metadata": {},
   "outputs": [],
   "source": []
  }
 ],
 "metadata": {
  "kernelspec": {
   "display_name": "Python 3 (ipykernel)",
   "language": "python",
   "name": "python3"
  },
  "language_info": {
   "codemirror_mode": {
    "name": "ipython",
    "version": 3
   },
   "file_extension": ".py",
   "mimetype": "text/x-python",
   "name": "python",
   "nbconvert_exporter": "python",
   "pygments_lexer": "ipython3",
   "version": "3.9.12"
  }
 },
 "nbformat": 4,
 "nbformat_minor": 5
}
