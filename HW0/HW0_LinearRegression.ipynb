{
 "cells": [
  {
   "cell_type": "code",
   "execution_count": 1,
   "id": "c683820f-cac0-4d96-812f-2241c91cf4bc",
   "metadata": {},
   "outputs": [],
   "source": [
    "import numpy as np\n",
    "import matplotlib.pyplot as plt\n",
    "import pandas as pd"
   ]
  },
  {
   "cell_type": "code",
   "execution_count": 2,
   "id": "5ae75c98-4a84-45a2-95dc-8aa21d49989f",
   "metadata": {},
   "outputs": [],
   "source": [
    "#Read data from D3.csv as our dataset\n",
    "dataset = pd.read_csv('./D3.csv')"
   ]
  },
  {
   "cell_type": "code",
   "execution_count": 3,
   "id": "21967cc7-749f-493d-9e27-4ba213b17276",
   "metadata": {},
   "outputs": [
    {
     "data": {
      "text/html": [
       "<div>\n",
       "<style scoped>\n",
       "    .dataframe tbody tr th:only-of-type {\n",
       "        vertical-align: middle;\n",
       "    }\n",
       "\n",
       "    .dataframe tbody tr th {\n",
       "        vertical-align: top;\n",
       "    }\n",
       "\n",
       "    .dataframe thead th {\n",
       "        text-align: right;\n",
       "    }\n",
       "</style>\n",
       "<table border=\"1\" class=\"dataframe\">\n",
       "  <thead>\n",
       "    <tr style=\"text-align: right;\">\n",
       "      <th></th>\n",
       "      <th>X1</th>\n",
       "      <th>X2</th>\n",
       "      <th>X3</th>\n",
       "      <th>Y</th>\n",
       "    </tr>\n",
       "  </thead>\n",
       "  <tbody>\n",
       "    <tr>\n",
       "      <th>0</th>\n",
       "      <td>0.000000</td>\n",
       "      <td>3.440000</td>\n",
       "      <td>0.440000</td>\n",
       "      <td>4.387545</td>\n",
       "    </tr>\n",
       "    <tr>\n",
       "      <th>1</th>\n",
       "      <td>0.040404</td>\n",
       "      <td>0.134949</td>\n",
       "      <td>0.888485</td>\n",
       "      <td>2.679650</td>\n",
       "    </tr>\n",
       "    <tr>\n",
       "      <th>2</th>\n",
       "      <td>0.080808</td>\n",
       "      <td>0.829899</td>\n",
       "      <td>1.336970</td>\n",
       "      <td>2.968490</td>\n",
       "    </tr>\n",
       "    <tr>\n",
       "      <th>3</th>\n",
       "      <td>0.121212</td>\n",
       "      <td>1.524848</td>\n",
       "      <td>1.785455</td>\n",
       "      <td>3.254065</td>\n",
       "    </tr>\n",
       "    <tr>\n",
       "      <th>4</th>\n",
       "      <td>0.161616</td>\n",
       "      <td>2.219798</td>\n",
       "      <td>2.233939</td>\n",
       "      <td>3.536375</td>\n",
       "    </tr>\n",
       "  </tbody>\n",
       "</table>\n",
       "</div>"
      ],
      "text/plain": [
       "         X1        X2        X3         Y\n",
       "0  0.000000  3.440000  0.440000  4.387545\n",
       "1  0.040404  0.134949  0.888485  2.679650\n",
       "2  0.080808  0.829899  1.336970  2.968490\n",
       "3  0.121212  1.524848  1.785455  3.254065\n",
       "4  0.161616  2.219798  2.233939  3.536375"
      ]
     },
     "execution_count": 3,
     "metadata": {},
     "output_type": "execute_result"
    }
   ],
   "source": [
    "dataset.head() #default value of .head() is 5 rows"
   ]
  },
  {
   "cell_type": "code",
   "execution_count": 4,
   "id": "63ef4388-d9d2-4283-ba88-c278d74c2703",
   "metadata": {},
   "outputs": [
    {
     "data": {
      "text/plain": [
       "100"
      ]
     },
     "execution_count": 4,
     "metadata": {},
     "output_type": "execute_result"
    }
   ],
   "source": [
    "M = len(dataset)\n",
    "M"
   ]
  },
  {
   "cell_type": "code",
   "execution_count": 9,
   "id": "09205fcf-cc49-4043-822b-b30c00de7d6f",
   "metadata": {},
   "outputs": [
    {
     "name": "stdout",
     "output_type": "stream",
     "text": [
      "X1 =  [0.         0.04040404 0.08080808 0.12121212 0.16161616]\n",
      "X2 =  [3.44       0.1349495  0.82989899 1.52484848 2.21979798]\n",
      "X3 =  [0.44       0.88848485 1.3369697  1.78545454 2.23393939]\n",
      "y =  [4.38754501 2.6796499  2.96848981 3.25406475 3.53637472]\n"
     ]
    }
   ],
   "source": [
    "X1 = dataset.values[:,0]\n",
    "X2 = dataset.values[:,1]\n",
    "X3 = dataset.values[:,2]\n",
    "y = dataset.values[:,3]\n",
    "m = len(y)\n",
    "print('X1 = ', X1[: 5])\n",
    "print('X2 = ', X2[: 5])\n",
    "print('X3 = ', X3[: 5])\n",
    "print('y = ', y[: 5]) "
   ]
  },
  {
   "cell_type": "code",
   "execution_count": 10,
   "id": "b7501f8c-7f16-486d-b2dd-ca37ea0b95db",
   "metadata": {},
   "outputs": [
    {
     "data": {
      "text/plain": [
       "<function matplotlib.pyplot.grid(visible=None, which='major', axis='both', **kwargs)>"
      ]
     },
     "execution_count": 10,
     "metadata": {},
     "output_type": "execute_result"
    },
    {
     "data": {
      "image/png": "[encoded data removed]",
      "text/plain": [
       "<Figure size 432x288 with 1 Axes>"
      ]
     },
     "metadata": {
      "needs_background": "light"
     },
     "output_type": "display_data"
    }
   ],
   "source": [
    "plt.scatter(X1, y, color='red', marker='+')\n",
    "plt.grid"
   ]
  },
  {
   "cell_type": "code",
   "execution_count": 12,
   "id": "93669a1f-958a-4871-88d3-a4861eda4598",
   "metadata": {},
   "outputs": [
    {
     "data": {
      "text/plain": [
       "array([[1.],\n",
       "       [1.],\n",
       "       [1.],\n",
       "       [1.],\n",
       "       [1.]])"
      ]
     },
     "execution_count": 12,
     "metadata": {},
     "output_type": "execute_result"
    }
   ],
   "source": [
    "#Declare X_0 (which is an array of 1s because X0 is always 1)\n",
    "X_0 = np.ones((m,1))\n",
    "X_0[:5]"
   ]
  },
  {
   "cell_type": "code",
   "execution_count": 36,
   "id": "915ae360-5b32-4213-82ec-debd078461cf",
   "metadata": {},
   "outputs": [
    {
     "name": "stdout",
     "output_type": "stream",
     "text": [
      "X1_1:\n",
      " [[0.        ]\n",
      " [0.04040404]\n",
      " [0.08080808]\n",
      " [0.12121212]\n",
      " [0.16161616]\n",
      " [0.2020202 ]\n",
      " [0.24242424]\n",
      " [0.28282828]\n",
      " [0.32323232]\n",
      " [0.36363636]]\n",
      "X2_1:\n",
      " [[3.44      ]\n",
      " [0.1349495 ]\n",
      " [0.82989899]\n",
      " [1.52484848]\n",
      " [2.21979798]\n",
      " [2.91474747]\n",
      " [3.60969697]\n",
      " [0.30464646]\n",
      " [0.99959596]\n",
      " [1.69454546]]\n",
      "X3_1:\n",
      " [[0.44      ]\n",
      " [0.88848485]\n",
      " [1.3369697 ]\n",
      " [1.78545454]\n",
      " [2.23393939]\n",
      " [2.68242424]\n",
      " [3.13090909]\n",
      " [3.57939394]\n",
      " [0.02787879]\n",
      " [0.47636364]]\n"
     ]
    }
   ],
   "source": [
    "X1_1 = X1.reshape(m,1)\n",
    "print('X1_1:\\n', X1_1[:10])\n",
    "X2_1 = X2.reshape(m,1)\n",
    "print('X2_1:\\n', X2_1[:10])\n",
    "X3_1 = X3.reshape(m,1)\n",
    "print('X3_1:\\n', X3_1[:10])"
   ]
  },
  {
   "cell_type": "code",
   "execution_count": 46,
   "id": "7b4839a5-c7b9-402d-ae3f-c3663f0be091",
   "metadata": {},
   "outputs": [
    {
     "name": "stdout",
     "output_type": "stream",
     "text": [
      "X_1st:\n",
      " [[1.         0.        ]\n",
      " [1.         0.04040404]\n",
      " [1.         0.08080808]\n",
      " [1.         0.12121212]\n",
      " [1.         0.16161616]]\n",
      "X_2nd:\n",
      " [[1.         3.44      ]\n",
      " [1.         0.1349495 ]\n",
      " [1.         0.82989899]\n",
      " [1.         1.52484848]\n",
      " [1.         2.21979798]]\n",
      "X_3rd:\n",
      " [[1.         0.44      ]\n",
      " [1.         0.88848485]\n",
      " [1.         1.3369697 ]\n",
      " [1.         1.78545454]\n",
      " [1.         2.23393939]]\n"
     ]
    }
   ],
   "source": [
    "#Combine X0 and X1 into one array\n",
    "X_1st = np.hstack((X_0, X1_1))\n",
    "print('X_1st:\\n',X_1st[:5])\n",
    "X_2nd = np.hstack((X_0, X2_1))\n",
    "print('X_2nd:\\n',X_2nd[:5])\n",
    "X_3rd = np.hstack((X_0, X3_1))\n",
    "print('X_3rd:\\n',X_3rd[:5])"
   ]
  },
  {
   "cell_type": "code",
   "execution_count": 47,
   "id": "0bc24377-0419-4fdc-a524-1b2c2f9afb00",
   "metadata": {},
   "outputs": [
    {
     "data": {
      "text/plain": [
       "array([0., 0.])"
      ]
     },
     "execution_count": 47,
     "metadata": {},
     "output_type": "execute_result"
    }
   ],
   "source": [
    "#Parameters (intially are equal to zero)\n",
    "theta = np.zeros(2)\n",
    "theta"
   ]
  },
  {
   "cell_type": "code",
   "execution_count": 48,
   "id": "38997688-c58a-4792-80fd-13b905f2b5c7",
   "metadata": {},
   "outputs": [],
   "source": [
    "def compute_cost(X, y, theta):\n",
    " \"\"\"\n",
    " Compute cost for linear regression.\n",
    " Input Parameters\n",
    " ----------------\n",
    " X : 2D array where each row represent the training example and each column represent\n",
    " m= number of training examples\n",
    " n= number of features (including X_0 column of ones)\n",
    " y : 1D array of labels/target value for each traing example. dimension(1 x m)\n",
    " theta : 1D array of fitting parameters or weights. Dimension (1 x n)\n",
    " Output Parameters\n",
    " -----------------\n",
    " J : Scalar value.\n",
    " \"\"\"\n",
    " predictions = X.dot(theta)\n",
    " errors = np.subtract(predictions, y)\n",
    " sqrErrors = np.square(errors)\n",
    " J = 1 / (2 * m) * np.sum(sqrErrors)\n",
    " return J"
   ]
  },
  {
   "cell_type": "code",
   "execution_count": 49,
   "id": "6e7af877-5842-4d24-88eb-64dcf4d6a80c",
   "metadata": {},
   "outputs": [
    {
     "name": "stdout",
     "output_type": "stream",
     "text": [
      "The cost for given values of theta_0 and theta_1 = 5.524438459196242\n",
      "The cost for given values of theta_0 and theta_1 = 5.524438459196242\n",
      "The cost for given values of theta_0 and theta_1 = 5.524438459196242\n"
     ]
    }
   ],
   "source": [
    "# Lets compute the cost for theta values\n",
    "costX1 = compute_cost(X_1st, y, theta)\n",
    "print('The cost for given values of theta_0 and theta_1 =', costX1)\n",
    "costX2 = compute_cost(X_2nd, y, theta)\n",
    "print('The cost for given values of theta_0 and theta_1 =', costX2)\n",
    "costX3 = compute_cost(X_3rd, y, theta)\n",
    "print('The cost for given values of theta_0 and theta_1 =', costX3)"
   ]
  },
  {
   "cell_type": "code",
   "execution_count": 50,
   "id": "95ba1ca5-9545-47d0-b117-266d43ce5669",
   "metadata": {},
   "outputs": [],
   "source": [
    "def gradient_descent(X, y, theta, alpha, iterations):\n",
    " \"\"\"\n",
    " Compute cost for linear regression.\n",
    " Input Parameters\n",
    " ----------------\n",
    " X : 2D array where each row represent the training example and each column represent\n",
    " m= number of training examples\n",
    " n= number of features (including X_0 column of ones)\n",
    " y : 1D array of labels/target value for each traing example. dimension(m x 1)\n",
    " theta : 1D array of fitting parameters or weights. Dimension (1 x n)\n",
    " alpha : Learning rate. Scalar value\n",
    " iterations: No of iterations. Scalar value.\n",
    " Output Parameters\n",
    " -----------------\n",
    " theta : Final Value. 1D array of fitting parameters or weights. Dimension (1 x n)\n",
    " cost_history: Conatins value of cost for each iteration. 1D array. Dimansion(m x 1)\n",
    " \"\"\"\n",
    " cost_history = np.zeros(iterations)\n",
    " for i in range(iterations):\n",
    "    predictions = X.dot(theta)\n",
    "    errors = np.subtract(predictions, y)\n",
    "    sum_delta = (alpha / m) * X.transpose().dot(errors);\n",
    "    theta = theta - sum_delta;\n",
    "    cost_history[i] = compute_cost(X, y, theta)\n",
    " return theta, cost_history"
   ]
  },
  {
   "cell_type": "code",
   "execution_count": 118,
   "id": "3ea77a34-2f8c-4229-80bd-b2d2466fd9d3",
   "metadata": {},
   "outputs": [],
   "source": [
    "thetaX1 = [0., 0.]\n",
    "thetaX2 = [0., 0.]\n",
    "thetaX3 = [0., 0.]\n",
    "iterations = 1500;\n",
    "alpha1 = 0.01;\n",
    "alpha2 = 0.001;\n",
    "alpha3 = 0.01"
   ]
  },
  {
   "cell_type": "code",
   "execution_count": 126,
   "id": "6da1909b-ad3c-4e8a-b4fe-8a8f809886c5",
   "metadata": {},
   "outputs": [
    {
     "name": "stdout",
     "output_type": "stream",
     "text": [
      "Final value of theta = [ 5.92043383 -2.03541173]\n",
      "cost_history = [0.99056467 0.99054    0.99051545 ... 0.98500035 0.98500032 0.98500029]\n",
      "Final value of theta = [0.50420806 0.6478467 ]\n",
      "cost_history = [3.61269261 3.6126867  3.6126808  ... 3.60622989 3.60622685 3.60622381]\n",
      "Final value of theta = [ 2.86831421 -0.51925373]\n",
      "cost_history = [3.63052142 3.63051661 3.63051183 ... 3.62945239 3.62945239 3.62945238]\n"
     ]
    }
   ],
   "source": [
    "thetaX1, costX1_history = gradient_descent(X_1st, y, thetaX1, alpha1, iterations)\n",
    "print('Final value of theta =', thetaX1)\n",
    "print('cost_history =', costX1_history)\n",
    "\n",
    "thetaX2, costX2_history = gradient_descent(X_2nd, y, thetaX2, alpha2, iterations)\n",
    "print('Final value of theta =', thetaX2)\n",
    "print('cost_history =', costX2_history)\n",
    "\n",
    "thetaX3, costX3_history = gradient_descent(X_3rd, y, thetaX3, alpha3, iterations)\n",
    "print('Final value of theta =', thetaX3)\n",
    "print('cost_history =', costX3_history)"
   ]
  },
  {
   "cell_type": "code",
   "execution_count": 120,
   "id": "b1b55138-52ca-4fda-9d46-2789f2156985",
   "metadata": {},
   "outputs": [
    {
     "data": {
      "text/plain": [
       "<matplotlib.legend.Legend at 0x2166528ba00>"
      ]
     },
     "execution_count": 120,
     "metadata": {},
     "output_type": "execute_result"
    },
    {
     "data": {
      "image/png": "[encoded data removed]",
      "text/plain": [
       "<Figure size 720x432 with 1 Axes>"
      ]
     },
     "metadata": {
      "needs_background": "light"
     },
     "output_type": "display_data"
    }
   ],
   "source": [
    "# Since X is list of list (feature matrix) lets take values of column of index 1 only\n",
    "plt.scatter(X_1st[:,1], y, color='red', marker= '+', label= 'Training Data')\n",
    "plt.plot(X_1st[:,1],X_1st.dot(thetaX1), color='green', label='Linear Regression')\n",
    "plt.rcParams[\"figure.figsize\"] = (10,6)\n",
    "plt.grid()\n",
    "plt.xlabel('X1')\n",
    "plt.ylabel('Y')\n",
    "plt.title('Linear Regression Fit')\n",
    "plt.legend()"
   ]
  },
  {
   "cell_type": "code",
   "execution_count": 121,
   "id": "95863af8-15cf-43d6-ba96-73e3ba51dfc9",
   "metadata": {},
   "outputs": [
    {
     "data": {
      "text/plain": [
       "Text(0.5, 1.0, 'Convergence of gradient descent')"
      ]
     },
     "execution_count": 121,
     "metadata": {},
     "output_type": "execute_result"
    },
    {
     "data": {
      "image/png": "[encoded data removed]",
      "text/plain": [
       "<Figure size 720x432 with 1 Axes>"
      ]
     },
     "metadata": {
      "needs_background": "light"
     },
     "output_type": "display_data"
    }
   ],
   "source": [
    "plt.plot(range(1, iterations + 1),costX1_history, color='blue')\n",
    "plt.rcParams[\"figure.figsize\"] = (10,6)\n",
    "plt.grid()\n",
    "plt.xlabel('Number of iterations')\n",
    "plt.ylabel('Cost (J)')\n",
    "plt.title('Convergence of gradient descent')"
   ]
  },
  {
   "cell_type": "code",
   "execution_count": 122,
   "id": "289ace92-8f1c-48e1-a721-0afe30d45b95",
   "metadata": {},
   "outputs": [
    {
     "data": {
      "text/plain": [
       "<matplotlib.legend.Legend at 0x216666f4eb0>"
      ]
     },
     "execution_count": 122,
     "metadata": {},
     "output_type": "execute_result"
    },
    {
     "data": {
      "image/png": "[encoded data removed]",
      "text/plain": [
       "<Figure size 720x432 with 1 Axes>"
      ]
     },
     "metadata": {
      "needs_background": "light"
     },
     "output_type": "display_data"
    }
   ],
   "source": [
    "plt.scatter(X_2nd[:,1], y, color='red', marker= '+', label= 'Training Data')\n",
    "plt.plot(X_2nd[:,1],X_2nd.dot(thetaX2), color='green', label='Linear Regression')\n",
    "plt.rcParams[\"figure.figsize\"] = (10,6)\n",
    "plt.grid()\n",
    "plt.xlabel('X2')\n",
    "plt.ylabel('Y')\n",
    "plt.title('Linear Regression Fit')\n",
    "plt.legend()"
   ]
  },
  {
   "cell_type": "code",
   "execution_count": 123,
   "id": "c26017a1-a2f4-4cdd-92d6-faf432d78ac2",
   "metadata": {},
   "outputs": [
    {
     "data": {
      "text/plain": [
       "Text(0.5, 1.0, 'Convergence of gradient descent')"
      ]
     },
     "execution_count": 123,
     "metadata": {},
     "output_type": "execute_result"
    },
    {
     "data": {
      "image/png": "[encoded data removed]",
      "text/plain": [
       "<Figure size 720x432 with 1 Axes>"
      ]
     },
     "metadata": {
      "needs_background": "light"
     },
     "output_type": "display_data"
    }
   ],
   "source": [
    "plt.plot(range(1, iterations + 1),costX2_history, color='blue')\n",
    "plt.rcParams[\"figure.figsize\"] = (10,6)\n",
    "plt.grid()\n",
    "plt.xlabel('Number of iterations')\n",
    "plt.ylabel('Cost (J)')\n",
    "plt.title('Convergence of gradient descent')"
   ]
  },
  {
   "cell_type": "code",
   "execution_count": 124,
   "id": "2b0aad32-9a35-464e-a96c-640370d907fa",
   "metadata": {},
   "outputs": [
    {
     "data": {
      "text/plain": [
       "<matplotlib.legend.Legend at 0x21666794f40>"
      ]
     },
     "execution_count": 124,
     "metadata": {},
     "output_type": "execute_result"
    },
    {
     "data": {
      "image/png": "[encoded data removed]",
      "text/plain": [
       "<Figure size 720x432 with 1 Axes>"
      ]
     },
     "metadata": {
      "needs_background": "light"
     },
     "output_type": "display_data"
    }
   ],
   "source": [
    "plt.scatter(X_3rd[:,1], y, color='red', marker= '+', label= 'Training Data')\n",
    "plt.plot(X_3rd[:,1],X_3rd.dot(thetaX3), color='green', label='Linear Regression')\n",
    "plt.rcParams[\"figure.figsize\"] = (10,6)\n",
    "plt.grid()\n",
    "plt.xlabel('X3')\n",
    "plt.ylabel('Y')\n",
    "plt.title('Linear Regression Fit')\n",
    "plt.legend()"
   ]
  },
  {
   "cell_type": "code",
   "execution_count": 125,
   "id": "b341a4b1-218f-41d7-a3ea-091452c65ea4",
   "metadata": {},
   "outputs": [
    {
     "data": {
      "text/plain": [
       "Text(0.5, 1.0, 'Convergence of gradient descent')"
      ]
     },
     "execution_count": 125,
     "metadata": {},
     "output_type": "execute_result"
    },
    {
     "data": {
      "image/png": "[encoded data removed]",
      "text/plain": [
       "<Figure size 720x432 with 1 Axes>"
      ]
     },
     "metadata": {
      "needs_background": "light"
     },
     "output_type": "display_data"
    }
   ],
   "source": [
    "plt.plot(range(1, iterations + 1),costX3_history, color='blue')\n",
    "plt.rcParams[\"figure.figsize\"] = (10,6)\n",
    "plt.grid()\n",
    "plt.xlabel('Number of iterations')\n",
    "plt.ylabel('Cost (J)')\n",
    "plt.title('Convergence of gradient descent')"
   ]
  },
  {
   "cell_type": "code",
   "execution_count": null,
   "id": "b38157c5-4921-4b88-b662-2159760ee561",
   "metadata": {},
   "outputs": [],
   "source": []
  }
 ],
 "metadata": {
  "kernelspec": {
   "display_name": "Python 3 (ipykernel)",
   "language": "python",
   "name": "python3"
  },
  "language_info": {
   "codemirror_mode": {
    "name": "ipython",
    "version": 3
   },
   "file_extension": ".py",
   "mimetype": "text/x-python",
   "name": "python",
   "nbconvert_exporter": "python",
   "pygments_lexer": "ipython3",
   "version": "3.9.12"
  }
 },
 "nbformat": 4,
 "nbformat_minor": 5
}
